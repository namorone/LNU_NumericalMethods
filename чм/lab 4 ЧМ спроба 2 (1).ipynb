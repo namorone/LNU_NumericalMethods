{
 "cells": [
  {
   "cell_type": "code",
   "execution_count": 2,
   "id": "234ae145",
   "metadata": {},
   "outputs": [],
   "source": [
    "from sympy import Symbol, sin, cos, atan\n",
    "#%matplotlib notebook\n",
    "#%matplotlib widget\n",
    "%matplotlib inline\n",
    "import matplotlib.pyplot as plt\n",
    "import numpy as np "
   ]
  },
  {
   "cell_type": "code",
   "execution_count": 3,
   "id": "3a1a1da3",
   "metadata": {},
   "outputs": [],
   "source": [
    "x_sym = Symbol(\"x\")"
   ]
  },
  {
   "cell_type": "code",
   "execution_count": 4,
   "id": "aa121fbd",
   "metadata": {},
   "outputs": [],
   "source": [
    "#function = sin(x_sym)**2\n",
    "function = atan(x_sym)/x_sym"
   ]
  },
  {
   "cell_type": "code",
   "execution_count": 5,
   "id": "81efedf7",
   "metadata": {},
   "outputs": [
    {
     "name": "stderr",
     "output_type": "stream",
     "text": [
      "C:\\Users\\user\\AppData\\Local\\Temp\\ipykernel_3064\\1658631028.py:3: RuntimeWarning: invalid value encountered in true_divide\n",
      "  y = np.arctan(x)/x\n"
     ]
    },
    {
     "data": {
      "image/png": "[encoded data removed]",
      "text/plain": [
       "<Figure size 432x288 with 1 Axes>"
      ]
     },
     "metadata": {
      "needs_background": "light"
     },
     "output_type": "display_data"
    }
   ],
   "source": [
    "x = np.arange(0, 6, 0.01)\n",
    "#y =  np.sin(x)**2\n",
    "y = np.arctan(x)/x\n",
    "plt.plot(x,y, color = 'pink')\n",
    "plt.xlabel(\"X axis\")\n",
    "plt.ylabel(\"Y axis\")\n",
    "#plt.title('Graphic f = {y}')\n",
    "plt.grid()\n",
    "plt.show()"
   ]
  },
  {
   "cell_type": "code",
   "execution_count": 47,
   "id": "607bd888",
   "metadata": {},
   "outputs": [],
   "source": [
    "a = 0.001\n",
    "b = 1\n",
    "e = 0.01\n",
    "n = 100"
   ]
  },
  {
   "cell_type": "markdown",
   "id": "329797d3",
   "metadata": {},
   "source": [
    "Rectangle Rule"
   ]
  },
  {
   "cell_type": "code",
   "execution_count": 48,
   "id": "eb482f4e",
   "metadata": {},
   "outputs": [
    {
     "name": "stdout",
     "output_type": "stream",
     "text": [
      "\u001b[1m Result = 0.91\n"
     ]
    }
   ],
   "source": [
    "def rectangle_rule(func, sym, a, b, e, h=0):\n",
    "    if h==0:\n",
    "        h = abs(a - b) / n\n",
    "\n",
    "    h1 = a + h/2\n",
    "    h2 = a + h/4\n",
    "    summa1 = 0\n",
    "    summa2 = 0\n",
    "    while h1 < b:\n",
    "        summa1 += func.evalf(subs={sym: h1}) * h\n",
    "        h1 += h\n",
    "\n",
    "    while h2 < b:\n",
    "        summa2 += func.evalf(subs={sym: h2}) * (h/2)\n",
    "        h2 += h/2\n",
    "\n",
    "    if abs(summa1 - summa2) < e:\n",
    "        return summa2\n",
    "    return rectangle_method(func, sym, a, b, e, h/2)\n",
    "\n",
    "print(\"\\033[1m Result =\", round(rectangle_rule(function, x_sym, a, b, e), 2))"
   ]
  },
  {
   "cell_type": "markdown",
   "id": "51f755b2",
   "metadata": {},
   "source": [
    "-----------------------------------------------------------------------"
   ]
  },
  {
   "cell_type": "markdown",
   "id": "73c97347",
   "metadata": {},
   "source": [
    "Trapezoid Rule"
   ]
  },
  {
   "cell_type": "code",
   "execution_count": 49,
   "id": "598b76bb",
   "metadata": {},
   "outputs": [
    {
     "name": "stdout",
     "output_type": "stream",
     "text": [
      "\u001b[1m Result =  0.92\n"
     ]
    }
   ],
   "source": [
    "def trapezoid_rule(func, sym, a, b, e, h=0):\n",
    "    if h==0:\n",
    "        h = abs(a - b) / n\n",
    "\n",
    "    h1 = a\n",
    "    h2 = a\n",
    "    summa1 = 0\n",
    "    summa2 = 0\n",
    "    \n",
    "    while h1 < b:\n",
    "        summa1 += (func.evalf(subs={sym: h1}) + func.evalf(subs={sym: h1 + h})) / 2 * h\n",
    "        h1 += h\n",
    "\n",
    "\n",
    "    while h2 < b:\n",
    "        summa2 += (func.evalf(subs={sym: h2}) + func.evalf(subs={sym: h2 + h})) / 2 * (h/2)\n",
    "        h2 += h/2\n",
    "\n",
    "    if abs(summa1 - summa2) < e:\n",
    "        return summa2\n",
    "    return trapezoid_rule(func, sym, a, b, e, h/2)\n",
    "\n",
    "print(\"\\033[1m Result = \",  round(trapezoid_rule(function, x_sym, a, b, e), 2))"
   ]
  },
  {
   "cell_type": "markdown",
   "id": "d17967e8",
   "metadata": {},
   "source": [
    "-----------------------------------------------------------------------"
   ]
  },
  {
   "cell_type": "markdown",
   "id": "f13757e5",
   "metadata": {},
   "source": [
    "Simpson Rule"
   ]
  },
  {
   "cell_type": "code",
   "execution_count": 50,
   "id": "06a4e484",
   "metadata": {},
   "outputs": [
    {
     "name": "stdout",
     "output_type": "stream",
     "text": [
      "\u001b[1m Result =  0.92\n"
     ]
    }
   ],
   "source": [
    "def simpson_rule(func, sym, a, b, e, h=0):\n",
    "    if h==0:\n",
    "        h = abs(a - b) / n\n",
    "\n",
    "    h1 = a\n",
    "    h2 = a\n",
    "    summa1 = 0\n",
    "    summa2 = 0\n",
    "    \n",
    "    while h1 < b:\n",
    "        summa1 += (func.evalf(subs={sym: h1}) +\n",
    "                 4 * (func.evalf(subs={sym: h1 + h/2})) +\n",
    "                 func.evalf(subs={sym: h1 + h})) / 6 * h\n",
    "        h1 += h\n",
    "\n",
    "    while h2 < b:\n",
    "        summa2 += (func.evalf(subs={sym: h2}) +\n",
    "                 4 * (func.evalf(subs={sym: h2 + h/4})) +\n",
    "                 func.evalf(subs={sym: h2 + h/2})) / 6 * h/2\n",
    "        h2 += h/2\n",
    "\n",
    "    if abs(summa1 - summa2) < e:\n",
    "        return summa2\n",
    "    return simpson_rule(func, sym, a, b, e, h/2)\n",
    "\n",
    "\n",
    "print(\"\\033[1m Result = \", round(simpson_rule(function, x_sym, a, b, e), 2))"
   ]
  },
  {
   "cell_type": "markdown",
   "id": "264ade43",
   "metadata": {},
   "source": [
    "-----------------------------------------------------------------------"
   ]
  },
  {
   "cell_type": "code",
   "execution_count": null,
   "id": "0706ca93",
   "metadata": {},
   "outputs": [],
   "source": []
  },
  {
   "cell_type": "code",
   "execution_count": null,
   "id": "c3db984a",
   "metadata": {},
   "outputs": [],
   "source": []
  },
  {
   "cell_type": "code",
   "execution_count": 52,
   "id": "c48780d4",
   "metadata": {},
   "outputs": [
    {
     "name": "stdout",
     "output_type": "stream",
     "text": [
      "x = -0.6524141267610593, k = 6\n"
     ]
    }
   ],
   "source": [
    "import matplotlib.pyplot as plt\n",
    "import numpy as np\n",
    "from sympy import *\n",
    "\n",
    "def simple_iteration(f, psi, a, b, x0, eps):\n",
    "    x_prev = x0\n",
    "    k = 1\n",
    "    x_new = x_prev - psi * f(x_prev)\n",
    "    if np.abs(x_new - x_prev) < eps:\n",
    "        return x_new, k\n",
    "    while np.abs(x_new - x_prev) > eps:\n",
    "        k += 1\n",
    "        x_prev = x_new\n",
    "        x_new = x_prev - psi * f(x_prev)\n",
    "    return x_new, k\n",
    "\n",
    "def plot_graphics(f, a, b ,n):\n",
    "    xarr = np.linspace(a, b, n)\n",
    "    y = f(xarr)\n",
    "    fig = plt.figure()\n",
    "    ax = fig.gca()\n",
    "    ax.plot(xarr, y)\n",
    "    ax.axhline(color = \"grey\", ls = \"--\", zorder =- 1)\n",
    "    ax.axvline(color=\"grey\", ls=\"--\", zorder=- 1)\n",
    "    ax.set_xlim(a, b)\n",
    "    plt.show()\n",
    "\n",
    "def f(x):\n",
    "    return x*x*x +3*x*x-1\n",
    "\n",
    "psi = -0.25\n",
    "a =  -1\n",
    "b = 0\n",
    "eps = 0.001\n",
    "x0 = -0.5\n",
    "x, k = simple_iteration(f, psi, a, b, x0, eps)\n",
    "print(f'x = {x}, k = {k}')\n",
    "\n",
    "#mylist = []\n",
    "#result = simple_iteration(f, psi, a, b, x0, eps)\n",
    "#mylist.append(result)\n",
    "#a,b = zip(*mylist)\n",
    "#print('\\033[1m      Method Simple iteration ')\n",
    "#print ('\\033[0m', '*'* 50)\n",
    "#print('\\033[1m Result = ', '\\033[0m',  a[0])\n",
    "#print('\\033[1m Number of iterations = ', '\\033[0m',  b[0]) \""
   ]
  },
  {
   "cell_type": "code",
   "execution_count": null,
   "id": "214ac231-f316-4fda-96fa-478bc0a02ee2",
   "metadata": {},
   "outputs": [],
   "source": []
  }
 ],
 "metadata": {
  "kernelspec": {
   "display_name": "Python 3 (ipykernel)",
   "language": "python",
   "name": "python3"
  },
  "language_info": {
   "codemirror_mode": {
    "name": "ipython",
    "version": 3
   },
   "file_extension": ".py",
   "mimetype": "text/x-python",
   "name": "python",
   "nbconvert_exporter": "python",
   "pygments_lexer": "ipython3",
   "version": "3.9.12"
  }
 },
 "nbformat": 4,
 "nbformat_minor": 5
}
